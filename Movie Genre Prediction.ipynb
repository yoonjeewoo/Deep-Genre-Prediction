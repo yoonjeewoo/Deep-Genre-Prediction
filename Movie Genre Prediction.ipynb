{
 "cells": [
  {
   "cell_type": "code",
   "execution_count": 18,
   "metadata": {},
   "outputs": [],
   "source": [
    "import os\n",
    "os.environ['TF_CPP_MIN_LOG_LEVEL'] = '2'\n",
    "import tensorflow as tf\n",
    "import pandas as pd\n",
    "import csv\n",
    "from PIL import Image\n",
    "import glob\n",
    "import numpy as np\n",
    "\n",
    "dic = {}\n",
    "with open('./labels_final.csv', encoding='latin-1') as csv_file:\n",
    "    csv_reader = csv.reader(csv_file)\n",
    "    rows = list(csv_reader)"
   ]
  },
  {
   "cell_type": "code",
   "execution_count": 19,
   "metadata": {
    "collapsed": true
   },
   "outputs": [],
   "source": [
    "rows = np.array(rows)\n",
    "np.random.shuffle(rows)"
   ]
  },
  {
   "cell_type": "code",
   "execution_count": null,
   "metadata": {},
   "outputs": [
    {
     "name": "stdout",
     "output_type": "stream",
     "text": [
      "Started to labeling!! It would take some time.\n"
     ]
    }
   ],
   "source": [
    "image_list = []\n",
    "np_image_list = []\n",
    "label_list = []\n",
    "print(\"Started to labeling!! It would take some time.\")\n",
    "for i in range(1, len(rows)):\n",
    "    if (rows[i][2] == 'Talk-Show' or rows[i][2] == 'Adult' or rows[i][2] == 'Game-Show' or rows[i][2] == 'Reality-TV'):\n",
    "        pass\n",
    "    else:\n",
    "        try:\n",
    "            im = Image.open('./posters/'+str(rows[i][0])+'.jpg').convert('RGB')\n",
    "        except:\n",
    "            pass\n",
    "        else:\n",
    "            image = np.array(im)\n",
    "            if image.shape != (268, 182, 3):\n",
    "                pass\n",
    "            else:\n",
    "                image_list.append(im)\n",
    "                # 24 Labels\n",
    "                if (rows[i][2] == 'Action'):\n",
    "                    label_list.append([1, 0, 0, 0, 0, 0, 0, 0, 0, 0, 0, 0, 0, 0, 0, 0, 0, 0, 0, 0, 0, 0, 0, 0])\n",
    "\n",
    "                elif (rows[i][2] == 'Animation'):\n",
    "                    label_list.append([0, 1, 0, 0, 0, 0, 0, 0, 0, 0, 0, 0, 0, 0, 0, 0, 0, 0, 0, 0, 0, 0, 0, 0])\n",
    "\n",
    "                elif (rows[i][2] == 'Biography'):\n",
    "                    label_list.append([0, 0, 1, 0, 0, 0, 0, 0, 0, 0, 0, 0, 0, 0, 0, 0, 0, 0, 0, 0, 0, 0, 0, 0])\n",
    "\n",
    "                elif (rows[i][2] == 'Comedy'):\n",
    "                    label_list.append([0, 0, 0, 1, 0, 0, 0, 0, 0, 0, 0, 0, 0, 0, 0, 0, 0, 0, 0, 0, 0, 0, 0, 0])\n",
    "\n",
    "                elif (rows[i][2] == 'Crime'):\n",
    "                    label_list.append([0, 0, 0, 0, 1, 0, 0, 0, 0, 0, 0, 0, 0, 0, 0, 0, 0, 0, 0, 0, 0, 0, 0, 0])\n",
    "\n",
    "                elif (rows[i][2] == 'Drama'):\n",
    "                    label_list.append([0, 0, 0, 0, 0, 1, 0, 0, 0, 0, 0, 0, 0, 0, 0, 0, 0, 0, 0, 0, 0, 0, 0, 0])\n",
    "\n",
    "                elif (rows[i][2] == 'Family'):\n",
    "                    label_list.append([0, 0, 0, 0, 0, 0, 1, 0, 0, 0, 0, 0, 0, 0, 0, 0, 0, 0, 0, 0, 0, 0, 0, 0])\n",
    "\n",
    "                elif (rows[i][2] == 'Fantasy'):\n",
    "                    label_list.append([0, 0, 0, 0, 0, 0, 0, 1, 0, 0, 0, 0, 0, 0, 0, 0, 0, 0, 0, 0, 0, 0, 0, 0])\n",
    "\n",
    "                elif (rows[i][2] == 'Film-Noir'):\n",
    "                    label_list.append([0, 0, 0, 0, 0, 0, 0, 0, 1, 0, 0, 0, 0, 0, 0, 0, 0, 0, 0, 0, 0, 0, 0, 0])\n",
    "\n",
    "                elif (rows[i][2] == 'History'):\n",
    "                    label_list.append([0, 0, 0, 0, 0, 0, 0, 0, 0, 1, 0, 0, 0, 0, 0, 0, 0, 0, 0, 0, 0, 0, 0, 0])\n",
    "\n",
    "                elif (rows[i][2] == 'Horror'):\n",
    "                    label_list.append([0, 0, 0, 0, 0, 0, 0, 0, 0, 0, 1, 0, 0, 0, 0, 0, 0, 0, 0, 0, 0, 0, 0, 0])\n",
    "\n",
    "                elif (rows[i][2] == 'Music'):\n",
    "                    label_list.append([0, 0, 0, 0, 0, 0, 0, 0, 0, 0, 0, 1, 0, 0, 0, 0, 0, 0, 0, 0, 0, 0, 0, 0])\n",
    "\n",
    "                elif (rows[i][2] == 'Musical'):\n",
    "                    label_list.append([0, 0, 0, 0, 0, 0, 0, 0, 0, 0, 0, 0, 1, 0, 0, 0, 0, 0, 0, 0, 0, 0, 0, 0])\n",
    "\n",
    "                elif (rows[i][2] == 'News'):\n",
    "                    label_list.append([0, 0, 0, 0, 0, 0, 0, 0, 0, 0, 0, 0, 0, 1, 0, 0, 0, 0, 0, 0, 0, 0, 0, 0])\n",
    "\n",
    "                elif (rows[i][2] == 'Romance'):\n",
    "                    label_list.append([0, 0, 0, 0, 0, 0, 0, 0, 0, 0, 0, 0, 0, 0, 1, 0, 0, 0, 0, 0, 0, 0, 0, 0])\n",
    "\n",
    "                elif (rows[i][2] == 'Sci-Fi'):\n",
    "                    label_list.append([0, 0, 0, 0, 0, 0, 0, 0, 0, 0, 0, 0, 0, 0, 0, 1, 0, 0, 0, 0, 0, 0, 0, 0])\n",
    "\n",
    "                elif (rows[i][2] == 'Short'):\n",
    "                    label_list.append([0, 0, 0, 0, 0, 0, 0, 0, 0, 0, 0, 0, 0, 0, 0, 0, 1, 0, 0, 0, 0, 0, 0, 0])\n",
    "\n",
    "                elif (rows[i][2] == 'Sport'):\n",
    "                    label_list.append([0, 0, 0, 0, 0, 0, 0, 0, 0, 0, 0, 0, 0, 0, 0, 0, 0, 1, 0, 0, 0, 0, 0, 0])\n",
    "\n",
    "                elif (rows[i][2] == 'Mystery'):\n",
    "                    label_list.append([0, 0, 0, 0, 0, 0, 0, 0, 0, 0, 0, 0, 0, 0, 0, 0, 0, 0, 1, 0, 0, 0, 0, 0])\n",
    "\n",
    "                elif (rows[i][2] == 'War'):\n",
    "                    label_list.append([0, 0, 0, 0, 0, 0, 0, 0, 0, 0, 0, 0, 0, 0, 0, 0, 0, 0, 0, 1, 0, 0, 0, 0])\n",
    "\n",
    "                elif (rows[i][2] == 'Western'):\n",
    "                    label_list.append([0, 0, 0, 0, 0, 0, 0, 0, 0, 0, 0, 0, 0, 0, 0, 0, 0, 0, 0, 0, 1, 0, 0, 0])\n",
    "\n",
    "                elif (rows[i][2] == 'Thriller'):\n",
    "                    label_list.append([0, 0, 0, 0, 0, 0, 0, 0, 0, 0, 0, 0, 0, 0, 0, 0, 0, 0, 0, 0, 0, 1, 0, 0])\n",
    "\n",
    "                elif (rows[i][2] == 'Documentary'):\n",
    "                    label_list.append([0, 0, 0, 0, 0, 0, 0, 0, 0, 0, 0, 0, 0, 0, 0, 0, 0, 0, 0, 0, 0, 0, 1, 0])\n",
    "\n",
    "                elif (rows[i][2] == 'Adventure'):\n",
    "                    label_list.append([0, 0, 0, 0, 0, 0, 0, 0, 0, 0, 0, 0, 0, 0, 0, 0, 0, 0, 0, 0, 0, 0, 0, 1])\n",
    "        \n",
    "            \n",
    "for img in image_list:\n",
    "    np_image_list.append(np.array(img))"
   ]
  },
  {
   "cell_type": "code",
   "execution_count": null,
   "metadata": {},
   "outputs": [],
   "source": [
    "len(np_image_list), len(label_list)"
   ]
  },
  {
   "cell_type": "code",
   "execution_count": null,
   "metadata": {
    "collapsed": true
   },
   "outputs": [],
   "source": [
    "for image in np_image_list:\n",
    "    if image.shape != (268, 182, 3):\n",
    "        print(image.shape)"
   ]
  },
  {
   "cell_type": "code",
   "execution_count": null,
   "metadata": {
    "collapsed": true
   },
   "outputs": [],
   "source": [
    "images = np.array(np_image_list)\n",
    "labels = np.array(label_list)"
   ]
  },
  {
   "cell_type": "code",
   "execution_count": null,
   "metadata": {
    "collapsed": true
   },
   "outputs": [],
   "source": [
    "train_images = images[:80000] \n",
    "train_labels = labels[:80000]"
   ]
  },
  {
   "cell_type": "code",
   "execution_count": null,
   "metadata": {},
   "outputs": [],
   "source": [
    "len(train_images)"
   ]
  },
  {
   "cell_type": "code",
   "execution_count": null,
   "metadata": {
    "collapsed": true
   },
   "outputs": [],
   "source": [
    "X_img = tf.placeholder(tf.float32, [None, 268, 182, 3])\n",
    "Y = tf.placeholder(tf.float32, [None, 24])\n",
    "\n",
    "tf.summary.image('input', X_img, 3)\n",
    "\n",
    "keep_prob = tf.placeholder(tf.float32)"
   ]
  },
  {
   "cell_type": "code",
   "execution_count": null,
   "metadata": {
    "collapsed": true
   },
   "outputs": [],
   "source": [
    "with tf.variable_scope('conv_1') as scope:\n",
    "    W_conv1 = tf.Variable(tf.truncated_normal(shape=[5, 5, 3, 64], stddev=5e-2))\n",
    "    b_conv1 = tf.Variable(tf.constant(0.1, shape=[64]))\n",
    "    h_conv1 = tf.nn.relu(tf.nn.conv2d(X_img, W_conv1, strides=[1, 1, 1, 1], padding='SAME') + b_conv1)\n",
    "    \n",
    "    tf.summary.histogram(\"image\", X_img)\n",
    "    tf.summary.histogram(\"weights\", W_conv1)\n",
    "    tf.summary.histogram(\"bias\", b_conv1)\n",
    "    tf.summary.histogram(\"out\", h_conv1)\n",
    "    \n",
    "with tf.variable_scope('pool_1') as scope:\n",
    "    h_pool1 = tf.nn.max_pool(h_conv1, ksize=[1, 3, 3, 1], strides=[1, 2, 2, 1], padding='SAME')\n",
    "    \n",
    "    tf.summary.histogram(\"out\", h_pool1)\n",
    "    \n",
    "with tf.variable_scope('conv_2') as scope:\n",
    "    W_conv2 = tf.Variable(tf.truncated_normal(shape=[5, 5, 64, 64], stddev=5e-2))\n",
    "    b_conv2 = tf.Variable(tf.constant(0.1, shape=[64]))\n",
    "    h_conv2 = tf.nn.relu(tf.nn.conv2d(h_pool1, W_conv2, strides=[1, 1, 1, 1], padding='SAME') + b_conv2)\n",
    "    \n",
    "    tf.summary.histogram(\"weights\", W_conv2)\n",
    "    tf.summary.histogram(\"bias\", b_conv2)\n",
    "    tf.summary.histogram(\"out\", h_conv2)\n",
    "    \n",
    "with tf.variable_scope('pool_2') as scope:\n",
    "    h_pool2 = tf.nn.max_pool(h_conv2, ksize=[1, 3, 3, 1], strides=[1, 2, 2, 1], padding='SAME')\n",
    "\n",
    "    tf.summary.histogram(\"out\", h_pool2)\n",
    "    \n",
    "with tf.variable_scope('conv_3') as scope:\n",
    "    W_conv3 = tf.Variable(tf.truncated_normal(shape=[3, 3, 64, 128], stddev=5e-2))\n",
    "    b_conv3 = tf.Variable(tf.constant(0.1, shape=[128]))\n",
    "    h_conv3 = tf.nn.relu(tf.nn.conv2d(h_pool2, W_conv3, strides=[1, 1, 1, 1], padding='SAME') + b_conv3)\n",
    "    \n",
    "    tf.summary.histogram(\"weights\", W_conv3)\n",
    "    tf.summary.histogram(\"bias\", b_conv3)\n",
    "    tf.summary.histogram(\"out\", h_conv3)\n",
    "    \n",
    "with tf.variable_scope('conv_4') as scope:\n",
    "    W_conv4 = tf.Variable(tf.truncated_normal(shape=[3, 3, 128, 128], stddev=5e-2))\n",
    "    b_conv4 = tf.Variable(tf.constant(0.1, shape=[128])) \n",
    "    h_conv4 = tf.nn.relu(tf.nn.conv2d(h_conv3, W_conv4, strides=[1, 1, 1, 1], padding='SAME') + b_conv4)\n",
    "    \n",
    "    tf.summary.histogram(\"weights\", W_conv4)\n",
    "    tf.summary.histogram(\"bias\", b_conv4)\n",
    "    tf.summary.histogram(\"out\", h_conv4)\n",
    "    \n",
    "with tf.variable_scope('conv_5') as scope:\n",
    "    W_conv5 = tf.Variable(tf.truncated_normal(shape=[3, 3, 128, 128], stddev=5e-2))\n",
    "    b_conv5 = tf.Variable(tf.constant(0.1, shape=[128]))\n",
    "    h_conv5 = tf.nn.relu(tf.nn.conv2d(h_conv4, W_conv5, strides=[1, 1, 1, 1], padding='SAME') + b_conv5)\n",
    "    \n",
    "    tf.summary.histogram(\"weights\", W_conv5)\n",
    "    tf.summary.histogram(\"bias\", b_conv5)\n",
    "    tf.summary.histogram(\"out\", h_conv5)"
   ]
  },
  {
   "cell_type": "code",
   "execution_count": null,
   "metadata": {},
   "outputs": [],
   "source": [
    "h_conv5"
   ]
  },
  {
   "cell_type": "code",
   "execution_count": null,
   "metadata": {
    "collapsed": true,
    "scrolled": true
   },
   "outputs": [],
   "source": [
    "with tf.variable_scope('fc_1') as scope:\n",
    "    W_fc1 = tf.Variable(tf.truncated_normal(shape=[67 * 46 * 128, 128], stddev=5e-2))\n",
    "    b_fc1 = tf.Variable(tf.constant(0.1, shape=[128]))\n",
    "    h_conv5_flat = tf.reshape(h_conv5, [-1, 67 * 46 * 128])\n",
    "    h_fc1 = tf.nn.relu(tf.matmul(h_conv5_flat, W_fc1) + b_fc1)\n",
    "    h_fc1_drop = tf.nn.dropout(h_fc1, keep_prob) \n",
    "\n",
    "with tf.variable_scope('fc_2') as scope:\n",
    "    W_fc2 = tf.Variable(tf.truncated_normal(shape=[128, 24], stddev=5e-2))\n",
    "    b_fc2 = tf.Variable(tf.constant(0.1, shape=[24]))\n",
    "    logits = tf.matmul(h_fc1_drop, W_fc2) + b_fc2\n",
    "    y_pred = tf.nn.softmax(logits)\n",
    "    \n",
    "    tf.summary.histogram(\"y_pred\", y_pred)\n",
    "    "
   ]
  },
  {
   "cell_type": "code",
   "execution_count": null,
   "metadata": {},
   "outputs": [],
   "source": [
    "logits"
   ]
  },
  {
   "cell_type": "code",
   "execution_count": null,
   "metadata": {},
   "outputs": [],
   "source": [
    "loss = tf.reduce_mean(tf.nn.softmax_cross_entropy_with_logits(labels=Y, logits=logits))\n",
    "train_step = tf.train.AdamOptimizer(learning_rate=1e-3).minimize(loss)\n",
    "correct_prediction = tf.equal(tf.argmax(y_pred, 1), tf.argmax(Y, 1))\n",
    "accuracy = tf.reduce_mean(tf.cast(correct_prediction, tf.float32))\n",
    "\n",
    "tf.summary.scalar(\"loss\", loss)\n",
    "tf.summary.scalar(\"accuracy\", accuracy)\n",
    "\n",
    "summary = tf.summary.merge_all()"
   ]
  },
  {
   "cell_type": "code",
   "execution_count": null,
   "metadata": {},
   "outputs": [],
   "source": [
    "batch_cnt = 0\n",
    "sess = tf.Session()\n",
    "\n",
    "writer = tf.summary.FileWriter(\"./tb/genre2\")\n",
    "writer.add_graph(sess.graph)\n",
    "\n",
    "sess.run(tf.global_variables_initializer())\n",
    "for i in range(500):\n",
    "    batch_images = train_images[batch_cnt:batch_cnt+100]\n",
    "    batch_labels = train_labels[batch_cnt:batch_cnt+100]\n",
    "    batch_cnt += 100\n",
    "#     if (batch_cnt == 79500):\n",
    "#         batch_cnt = 0\n",
    "\n",
    "    acc, l, _, s = sess.run([accuracy, loss, train_step, summary], feed_dict={X_img: batch_images, Y: batch_labels, keep_prob: 0.9})\n",
    "    writer.add_summary(s, global_step=i)\n",
    "    if (i % 10 == 0):\n",
    "        print(\"Epoch: %d, Training Accuracy: %f, Loss: %f\" %(i, acc, l))\n",
    "    sess.run(train_step, feed_dict={X_img: batch_images, Y: batch_labels, keep_prob: 0.8})"
   ]
  },
  {
   "cell_type": "code",
   "execution_count": 46,
   "metadata": {
    "collapsed": true
   },
   "outputs": [],
   "source": [
    "acc = sess.run(accuracy, feed_dict={X_img: train_images[50000:50100], Y: train_labels[50000:50100], keep_prob: 1.0})"
   ]
  },
  {
   "cell_type": "code",
   "execution_count": 47,
   "metadata": {},
   "outputs": [
    {
     "data": {
      "text/plain": [
       "0.23"
      ]
     },
     "execution_count": 47,
     "metadata": {},
     "output_type": "execute_result"
    }
   ],
   "source": [
    "acc"
   ]
  },
  {
   "cell_type": "code",
   "execution_count": 68,
   "metadata": {},
   "outputs": [
    {
     "name": "stdout",
     "output_type": "stream",
     "text": [
      "[5, 3, 4]\n",
      "0.072655044\n",
      "0.015743228\n",
      "0.031233544\n",
      "0.0\n",
      "0.0\n",
      "0.0\n",
      "0.02225043\n",
      "0.038418174\n",
      "0.0050787674\n",
      "0.018332098\n",
      "0.03882993\n",
      "0.024382653\n",
      "0.019467164\n",
      "0.0005297309\n",
      "0.069416955\n",
      "0.035218894\n",
      "0.0070668324\n",
      "0.015903557\n",
      "0.038285766\n",
      "0.024565851\n",
      "0.010046106\n",
      "0.052445736\n",
      "0.026633294\n",
      "0.058093105\n",
      "[0 0 0 0 0 0 0 0 0 0 0 0 0 0 0 0 0 0 0 0 0 0 0 1]\n"
     ]
    }
   ],
   "source": [
    "result = sess.run(y_pred, feed_dict={X_img: train_images[70000:70001], Y: train_labels[70000:70001], keep_prob: 1.0})\n",
    "\n",
    "maxValue = 0\n",
    "maxIndex = 0\n",
    "topThree = []\n",
    "\n",
    "for i in range(len(result[0])):\n",
    "    if (result[0][i] > maxValue):\n",
    "        maxValue = result[0][i]\n",
    "        maxIndex = i\n",
    "topThree.append(maxIndex)\n",
    "result[0][maxIndex] = 0\n",
    "maxValue = 0\n",
    "maxIndex = 0\n",
    "for i in range(len(result[0])):\n",
    "    if (result[0][i] > maxValue):\n",
    "        maxValue = result[0][i]\n",
    "        maxIndex = i\n",
    "result[0][maxIndex] = 0\n",
    "topThree.append(maxIndex)\n",
    "maxValue = 0\n",
    "maxIndex = 0\n",
    "for i in range(len(result[0])):\n",
    "    if (result[0][i] > maxValue):\n",
    "        maxValue = result[0][i]\n",
    "        maxIndex = i\n",
    "# print(maxIndex)\n",
    "result[0][maxIndex] = 0\n",
    "topThree.append(maxIndex)\n",
    "print(topThree)\n",
    "for i in range(len(result[0])):\n",
    "    print(result[0][i])\n",
    "print(train_labels[4000])"
   ]
  },
  {
   "cell_type": "code",
   "execution_count": null,
   "metadata": {
    "collapsed": true
   },
   "outputs": [],
   "source": []
  },
  {
   "cell_type": "code",
   "execution_count": null,
   "metadata": {
    "collapsed": true
   },
   "outputs": [],
   "source": []
  },
  {
   "cell_type": "code",
   "execution_count": null,
   "metadata": {
    "collapsed": true
   },
   "outputs": [],
   "source": []
  },
  {
   "cell_type": "code",
   "execution_count": null,
   "metadata": {
    "collapsed": true
   },
   "outputs": [],
   "source": []
  },
  {
   "cell_type": "code",
   "execution_count": null,
   "metadata": {
    "collapsed": true
   },
   "outputs": [],
   "source": []
  },
  {
   "cell_type": "code",
   "execution_count": null,
   "metadata": {
    "collapsed": true
   },
   "outputs": [],
   "source": []
  },
  {
   "cell_type": "code",
   "execution_count": null,
   "metadata": {
    "collapsed": true
   },
   "outputs": [],
   "source": []
  },
  {
   "cell_type": "code",
   "execution_count": null,
   "metadata": {
    "collapsed": true
   },
   "outputs": [],
   "source": []
  }
 ],
 "metadata": {
  "kernelspec": {
   "display_name": "Python 3",
   "language": "python",
   "name": "python3"
  },
  "language_info": {
   "codemirror_mode": {
    "name": "ipython",
    "version": 3
   },
   "file_extension": ".py",
   "mimetype": "text/x-python",
   "name": "python",
   "nbconvert_exporter": "python",
   "pygments_lexer": "ipython3",
   "version": "3.6.3"
  }
 },
 "nbformat": 4,
 "nbformat_minor": 2
}
